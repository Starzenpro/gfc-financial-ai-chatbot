{
 "cells": [
  {
   "cell_type": "markdown",
   "metadata": {},
   "source": [
    "# GFC Financial Data Analysis\n",
    "\n",
    "Author: Starzenpro (Junior Data Scientist, BCG GenAI Consulting Team)\n",
    "\n",
    "## Introduction\n",
    "\n",
    "This notebook documents the extraction, analysis, and reporting of key financial data from the 10-K filings of Microsoft, Tesla, and Apple for the past three fiscal years. The insights generated here will inform the development of an AI-powered financial chatbot for Global Finance Corp. (GFC).\n"
   ]
  },
  {
   "cell_type": "markdown",
   "metadata": {},
   "source": [
    "## 1. Data Loading\n",
    "\n",
    "Load the manually extracted CSV file containing the financial figures for each company and fiscal year."
   ]
  },
  {
   "cell_type": "code",
   "metadata": {},
   "execution_count": null,
   "outputs": [],
   "source": [
    "import pandas as pd\n",
    "import numpy as np\n",
    "import matplotlib.pyplot as plt\n",
    "\n",
    "# Load the data\n",
    "df = pd.read_csv('financials.csv')\n",
    "df"
   ]
  },
  {
   "cell_type": "markdown",
   "metadata": {},
   "source": [
    "## 2. Data Overview\n",
    "\n",
    "Display the head of the dataframe and basic statistics."
   ]
  },
  {
   "cell_type": "code",
   "metadata": {},
   "execution_count": null,
   "outputs": [],
   "source": [
    "df.head()"
   ]
  },
  {
   "cell_type": "code",
   "metadata": {},
   "execution_count": null,
   "outputs": [],
   "source": [
    "df.describe(include='all')"
   ]
  },
  {
   "cell_type": "markdown",
   "metadata": {},
   "source": [
    "## 3. Year-over-Year (YoY) Growth Analysis\n",
    "\n",
    "Calculate and visualize the year-over-year percentage change for each key metric."
   ]
  },
  {
   "cell_type": "code",
   "metadata": {},
   "execution_count": null,
   "outputs": [],
   "source": [
    "# Calculate YoY growth for each company\n",
    "metrics = ['Total Revenue', 'Net Income', 'Total Assets', 'Total Liabilities', 'Cash Flow from Operating Activities']\n",
    "\n",
    "for metric in metrics:\n",
    "    df[f'{metric} Growth (%)'] = df.groupby('Company')[metric].pct_change() * 100\n",
    "df"
   ]
  },
  {
   "cell_type": "markdown",
   "metadata": {},
   "source": [
    "## 4. Visualization\n",
    "\n",
    "Plot trends in key financial metrics for each company."
   ]
  },
  {
   "cell_type": "code",
   "metadata": {},
   "execution_count": null,
   "outputs": [],
   "source": [
    "# Example: Plot Total Revenue over time for each company\n",
    "for company in df['Company'].unique():\n",
    "    company_df = df[df['Company'] == company]\n",
    "    plt.plot(company_df['Fiscal Year'], company_df['Total Revenue'], marker='o', label=company)\n",
    "plt.title('Total Revenue by Fiscal Year')\n",
    "plt.xlabel('Fiscal Year')\n",
    "plt.ylabel('Total Revenue (USD)')\n",
    "plt.legend()\n",
    "plt.show()"
   ]
  },
  {
   "cell_type": "markdown",
   "metadata": {},
   "source": [
    "## 5. Key Insights & Conclusions\n",
    "\n",
    "- Summarize growth trends and highlight any significant findings.\n",
    "- Discuss the financial health of each company based on extracted metrics.\n",
    "- Provide narrative explanations for observed trends (e.g., revenue spikes, asset changes, etc.)."
   ]
  },
  {
   "cell_type": "markdown",
   "metadata": {},
   "source": [
    "## 6. Next Steps\n",
    "\n",
    "- Integrate automated data extraction (NLP, GenAI)\n",
    "- Begin development of the AI-powered chatbot interface\n",
    "- Expand analysis to additional companies or periods as required"
   ]
  }
 ],
 "metadata": {
  "kernelspec": {
   "display_name": "Python 3",
   "language": "python",
   "name": "python3"
  },
  "language_info": {
   "name": "python",
   "version": "3.8"
  }
 },
 "nbformat": 4,
 "nbformat_minor": 5
}